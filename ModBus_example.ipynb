{
 "cells": [
  {
   "cell_type": "code",
   "execution_count": 3,
   "metadata": {},
   "outputs": [
    {
     "name": "stdout",
     "output_type": "stream",
     "text": [
      "Starting server...\n",
      "Server is online\n"
     ]
    },
    {
     "name": "stdout",
     "output_type": "stream",
     "text": [
      "Shutdown server\n"
     ]
    }
   ],
   "source": [
    "from pyModbusTCP.server import ModbusServer, DataBank\n",
    "import time\n",
    "# TCP auto connect on modbus request, close after it\n",
    "server =  ModbusServer(host= \"192.168.1.33\", port = 502, no_block=True)\n",
    "server.start()\n",
    "try: \n",
    "    print(\"Starting server...\")\n",
    "    server.start()\n",
    "    print(\"Server is online\")\n",
    "    val = [0]\n",
    "    while True:\n",
    "        val0 = input(\"Val: \")\n",
    "        val = [int(val0)]\n",
    "        print(val)\n",
    "        DataBank.set_words(0, val)\n",
    "        time.sleep(0.5)\n",
    "\n",
    "except:\n",
    "    print(\"Shutdown server\")\n",
    "    server.stop()"
   ]
  },
  {
   "cell_type": "code",
   "execution_count": 4,
   "metadata": {},
   "outputs": [
    {
     "name": "stdout",
     "output_type": "stream",
     "text": [
      "ModbusClient(host='192.168.1.33', port=502, unit_id=1, timeout=30.00, debug=True, auto_open=True, auto_close=False)\n",
      "Tx\n",
      "[FD 8C 00 00 00 06 01] 03 00 00 00 03\n",
      "Rx\n",
      "[FD 8C 00 00 00 09 01] 03 06 11 5C 00 05 00 06\n",
      "[4444, 5, 6]\n"
     ]
    }
   ],
   "source": [
    "from pyModbusTCP.client import ModbusClient\n",
    "\n",
    "# TCP auto connect on modbus request, close after it\n",
    "#c = ModbusClient(host=\"192.168.1.33\", auto_open=True, debug=True)\n",
    "c = ModbusClient(host=\"localhost\", auto_open=True, debug=True)\n",
    "print(c)\n",
    "regs = c.read_holding_registers(0,3)\n",
    "print(regs)"
   ]
  }
 ],
 "metadata": {
  "kernelspec": {
   "display_name": "Python 3",
   "language": "python",
   "name": "python3"
  },
  "language_info": {
   "codemirror_mode": {
    "name": "ipython",
    "version": 3
   },
   "file_extension": ".py",
   "mimetype": "text/x-python",
   "name": "python",
   "nbconvert_exporter": "python",
   "pygments_lexer": "ipython3",
   "version": "3.10.7"
  },
  "orig_nbformat": 4
 },
 "nbformat": 4,
 "nbformat_minor": 2
}
